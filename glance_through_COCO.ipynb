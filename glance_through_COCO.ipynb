{
 "metadata": {
  "language_info": {
   "codemirror_mode": {
    "name": "ipython",
    "version": 3
   },
   "file_extension": ".py",
   "mimetype": "text/x-python",
   "name": "python",
   "nbconvert_exporter": "python",
   "pygments_lexer": "ipython3",
   "version": "3.7.5-final"
  },
  "orig_nbformat": 2,
  "kernelspec": {
   "name": "python_defaultSpec_1598860958156",
   "display_name": "Python 3.7.5 64-bit"
  }
 },
 "nbformat": 4,
 "nbformat_minor": 2,
 "cells": [
  {
   "cell_type": "markdown",
   "metadata": {},
   "source": [
    "# A Glance through COCO\n",
    "## Presented By R.G."
   ]
  },
  {
   "cell_type": "markdown",
   "metadata": {},
   "source": [
    "COCO的官网:https://cocodataset.org/    \n",
    "COCO API : https://github.com/cocodataset/cocoapi"
   ]
  },
  {
   "cell_type": "markdown",
   "metadata": {},
   "source": [
    "### 以下是 COCO API 的 README"
   ]
  },
  {
   "cell_type": "markdown",
   "metadata": {},
   "source": [
    "COCO is a large image dataset designed for object detection, segmentation, person keypoints detection, stuff segmentation, and caption generation. This package provides Matlab, Python, and Lua APIs that assists in loading, parsing, and visualizing the annotations in COCO. Please visit http://cocodataset.org/ for more information on COCO, including for the data, paper, and tutorials. The exact format of the annotations is also described on the COCO website. The Matlab and Python APIs are complete, the Lua API provides only basic functionality.\n",
    "\n",
    "In addition to this API, please download both the COCO images and annotations in order to run the demos and use the API. Both are available on the project website.\n",
    "-Please download, unzip, and place the images in: coco/images/\n",
    "-Please download and place the annotations in: coco/annotations/\n",
    "For substantially more details on the API please see http://cocodataset.org/#download.\n",
    "\n",
    "After downloading the images and annotations, run the Matlab, Python, or Lua demos for example usage.\n",
    "\n",
    "To install:\n",
    "- For Matlab, add coco/MatlabApi to the Matlab path (OSX/Linux binaries provided)\n",
    "- For Python, run \"make\" under coco/PythonAPI\n",
    "- For Lua, run “luarocks make LuaAPI/rocks/coco-scm-1.rockspec” under coco/"
   ]
  },
  {
   "cell_type": "markdown",
   "metadata": {},
   "source": [
    "https://blog.csdn.net/gzj2013/article/details/82385164"
   ]
  },
  {
   "cell_type": "code",
   "execution_count": 11,
   "metadata": {},
   "outputs": [
    {
     "output_type": "execute_result",
     "data": {
      "text/plain": "'/Users/rgmax/Desktop/COCO_ABC/COCO'"
     },
     "metadata": {},
     "execution_count": 11
    }
   ],
   "source": [
    "import sys,os\n",
    "# 配置COCO数据集的路径\n",
    "COCOPATH = os.path.join(os.getcwd(), 'COCO')\n",
    "COCOPATH"
   ]
  },
  {
   "cell_type": "code",
   "execution_count": 13,
   "metadata": {},
   "outputs": [
    {
     "output_type": "execute_result",
     "data": {
      "text/plain": "['image_info_test2017',\n '.DS_Store',\n 'val2017',\n 'panoptic_annotations_trainval2017',\n 'test2017',\n 'stuff_annotations_trainval2017',\n 'unlabeled2017',\n 'annotations_trainval2017',\n 'train2017',\n 'image_info_unlabeled2017']"
     },
     "metadata": {},
     "execution_count": 13
    }
   ],
   "source": [
    "os.listdir(COCOPATH)"
   ]
  },
  {
   "cell_type": "code",
   "execution_count": 29,
   "metadata": {},
   "outputs": [
    {
     "output_type": "execute_result",
     "data": {
      "text/plain": "['/Users/rgmax/Desktop/COCO_ABC/COCO/image_info_test2017',\n '/Users/rgmax/Desktop/COCO_ABC/COCO/val2017',\n '/Users/rgmax/Desktop/COCO_ABC/COCO/panoptic_annotations_trainval2017',\n '/Users/rgmax/Desktop/COCO_ABC/COCO/test2017',\n '/Users/rgmax/Desktop/COCO_ABC/COCO/stuff_annotations_trainval2017',\n '/Users/rgmax/Desktop/COCO_ABC/COCO/unlabeled2017',\n '/Users/rgmax/Desktop/COCO_ABC/COCO/annotations_trainval2017',\n '/Users/rgmax/Desktop/COCO_ABC/COCO/train2017',\n '/Users/rgmax/Desktop/COCO_ABC/COCO/image_info_unlabeled2017']"
     },
     "metadata": {},
     "execution_count": 29
    }
   ],
   "source": [
    "COCODIRS = os.listdir(COCOPATH)\n",
    "try: # 剔除mac自带的.DS_Store文件夹\n",
    "    COCODIRS.remove('.DS_Store')\n",
    "except:\n",
    "    pass\n",
    "COCODIRS = [os.path.join(COCOPATH, d) for d in COCODIRS] # 生成完整文件夹路径\n",
    "COCODIRS"
   ]
  },
  {
   "cell_type": "code",
   "execution_count": null,
   "metadata": {},
   "outputs": [],
   "source": [
    "from pycocotools.coco import COCO\n"
   ]
  }
 ]
}