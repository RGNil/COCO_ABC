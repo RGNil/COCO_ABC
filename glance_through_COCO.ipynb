{
 "metadata": {
  "language_info": {
   "codemirror_mode": {
    "name": "ipython",
    "version": 3
   },
   "file_extension": ".py",
   "mimetype": "text/x-python",
   "name": "python",
   "nbconvert_exporter": "python",
   "pygments_lexer": "ipython3",
   "version": 3
  },
  "orig_nbformat": 2
 },
 "nbformat": 4,
 "nbformat_minor": 2,
 "cells": [
  {
   "cell_type": "markdown",
   "metadata": {},
   "source": [
    "# A Glance through COCO\n",
    "## Presented By R.G."
   ]
  },
  {
   "cell_type": "markdown",
   "metadata": {},
   "source": [
    "COCO的官网:https://cocodataset.org/    \n",
    "COCO API : https://github.com/cocodataset/cocoapi"
   ]
  },
  {
   "cell_type": "markdown",
   "metadata": {},
   "source": [
    "### 以下是 COCO API 的 README"
   ]
  },
  {
   "cell_type": "markdown",
   "metadata": {},
   "source": [
    "COCO is a large image dataset designed for object detection, segmentation, person keypoints detection, stuff segmentation, and caption generation. This package provides Matlab, Python, and Lua APIs that assists in loading, parsing, and visualizing the annotations in COCO. Please visit http://cocodataset.org/ for more information on COCO, including for the data, paper, and tutorials. The exact format of the annotations is also described on the COCO website. The Matlab and Python APIs are complete, the Lua API provides only basic functionality.\n",
    "\n",
    "In addition to this API, please download both the COCO images and annotations in order to run the demos and use the API. Both are available on the project website.\n",
    "-Please download, unzip, and place the images in: coco/images/\n",
    "-Please download and place the annotations in: coco/annotations/\n",
    "For substantially more details on the API please see http://cocodataset.org/#download.\n",
    "\n",
    "After downloading the images and annotations, run the Matlab, Python, or Lua demos for example usage.\n",
    "\n",
    "To install:\n",
    "- For Matlab, add coco/MatlabApi to the Matlab path (OSX/Linux binaries provided)\n",
    "- For Python, run \"make\" under coco/PythonAPI\n",
    "- For Lua, run “luarocks make LuaAPI/rocks/coco-scm-1.rockspec” under coco/"
   ]
  },
  {
   "cell_type": "markdown",
   "metadata": {},
   "source": [
    "https://blog.csdn.net/gzj2013/article/details/82385164"
   ]
  },
  {
   "cell_type": "code",
   "execution_count": null,
   "metadata": {},
   "outputs": [],
   "source": [
    "import pycocotools"
   ]
  }
 ]
}